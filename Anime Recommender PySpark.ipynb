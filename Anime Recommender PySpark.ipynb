{
  "nbformat": 4,
  "nbformat_minor": 0,
  "metadata": {
    "colab": {
      "provenance": []
    },
    "kernelspec": {
      "name": "python3",
      "display_name": "Python 3"
    },
    "language_info": {
      "name": "python"
    }
  },
  "cells": [
    {
      "cell_type": "markdown",
      "source": [
        "# **Group Members:**\n",
        "# **Moosa Imran (20L-0917), Mustafa Nosher (20L-0925), Anas Ahmad (20L-0932)**"
      ],
      "metadata": {
        "id": "64tAlsa_1y_R"
      }
    },
    {
      "cell_type": "code",
      "execution_count": null,
      "metadata": {
        "colab": {
          "base_uri": "https://localhost:8080/"
        },
        "id": "bH7pyAtndxJI",
        "outputId": "ef2838f1-61cb-4533-bea9-ac0ee2a66c5b"
      },
      "outputs": [
        {
          "output_type": "stream",
          "name": "stdout",
          "text": [
            "Collecting pyspark\n",
            "  Downloading pyspark-3.5.1.tar.gz (317.0 MB)\n",
            "\u001b[2K     \u001b[90m━━━━━━━━━━━━━━━━━━━━━━━━━━━━━━━━━━━━━━━━\u001b[0m \u001b[32m317.0/317.0 MB\u001b[0m \u001b[31m4.3 MB/s\u001b[0m eta \u001b[36m0:00:00\u001b[0m\n",
            "\u001b[?25h  Preparing metadata (setup.py) ... \u001b[?25l\u001b[?25hdone\n",
            "Requirement already satisfied: py4j==0.10.9.7 in /usr/local/lib/python3.10/dist-packages (from pyspark) (0.10.9.7)\n",
            "Building wheels for collected packages: pyspark\n",
            "  Building wheel for pyspark (setup.py) ... \u001b[?25l\u001b[?25hdone\n",
            "  Created wheel for pyspark: filename=pyspark-3.5.1-py2.py3-none-any.whl size=317488491 sha256=31f9f5c44129ccf6a3e3e9dbb92956d9ba0222d5214b6766a9a6ca16b768b0c6\n",
            "  Stored in directory: /root/.cache/pip/wheels/80/1d/60/2c256ed38dddce2fdd93be545214a63e02fbd8d74fb0b7f3a6\n",
            "Successfully built pyspark\n",
            "Installing collected packages: pyspark\n",
            "Successfully installed pyspark-3.5.1\n",
            "The following additional packages will be installed:\n",
            "  libxtst6 openjdk-8-jre-headless\n",
            "Suggested packages:\n",
            "  openjdk-8-demo openjdk-8-source libnss-mdns fonts-dejavu-extra fonts-nanum fonts-ipafont-gothic\n",
            "  fonts-ipafont-mincho fonts-wqy-microhei fonts-wqy-zenhei fonts-indic\n",
            "The following NEW packages will be installed:\n",
            "  libxtst6 openjdk-8-jdk-headless openjdk-8-jre-headless\n",
            "0 upgraded, 3 newly installed, 0 to remove and 45 not upgraded.\n",
            "Need to get 39.7 MB of archives.\n",
            "After this operation, 144 MB of additional disk space will be used.\n",
            "Selecting previously unselected package libxtst6:amd64.\n",
            "(Reading database ... 121918 files and directories currently installed.)\n",
            "Preparing to unpack .../libxtst6_2%3a1.2.3-1build4_amd64.deb ...\n",
            "Unpacking libxtst6:amd64 (2:1.2.3-1build4) ...\n",
            "Selecting previously unselected package openjdk-8-jre-headless:amd64.\n",
            "Preparing to unpack .../openjdk-8-jre-headless_8u402-ga-2ubuntu1~22.04_amd64.deb ...\n",
            "Unpacking openjdk-8-jre-headless:amd64 (8u402-ga-2ubuntu1~22.04) ...\n",
            "Selecting previously unselected package openjdk-8-jdk-headless:amd64.\n",
            "Preparing to unpack .../openjdk-8-jdk-headless_8u402-ga-2ubuntu1~22.04_amd64.deb ...\n",
            "Unpacking openjdk-8-jdk-headless:amd64 (8u402-ga-2ubuntu1~22.04) ...\n",
            "Setting up libxtst6:amd64 (2:1.2.3-1build4) ...\n",
            "Setting up openjdk-8-jre-headless:amd64 (8u402-ga-2ubuntu1~22.04) ...\n",
            "update-alternatives: using /usr/lib/jvm/java-8-openjdk-amd64/jre/bin/orbd to provide /usr/bin/orbd (orbd) in auto mode\n",
            "update-alternatives: using /usr/lib/jvm/java-8-openjdk-amd64/jre/bin/servertool to provide /usr/bin/servertool (servertool) in auto mode\n",
            "update-alternatives: using /usr/lib/jvm/java-8-openjdk-amd64/jre/bin/tnameserv to provide /usr/bin/tnameserv (tnameserv) in auto mode\n",
            "Setting up openjdk-8-jdk-headless:amd64 (8u402-ga-2ubuntu1~22.04) ...\n",
            "update-alternatives: using /usr/lib/jvm/java-8-openjdk-amd64/bin/clhsdb to provide /usr/bin/clhsdb (clhsdb) in auto mode\n",
            "update-alternatives: using /usr/lib/jvm/java-8-openjdk-amd64/bin/extcheck to provide /usr/bin/extcheck (extcheck) in auto mode\n",
            "update-alternatives: using /usr/lib/jvm/java-8-openjdk-amd64/bin/hsdb to provide /usr/bin/hsdb (hsdb) in auto mode\n",
            "update-alternatives: using /usr/lib/jvm/java-8-openjdk-amd64/bin/idlj to provide /usr/bin/idlj (idlj) in auto mode\n",
            "update-alternatives: using /usr/lib/jvm/java-8-openjdk-amd64/bin/javah to provide /usr/bin/javah (javah) in auto mode\n",
            "update-alternatives: using /usr/lib/jvm/java-8-openjdk-amd64/bin/jhat to provide /usr/bin/jhat (jhat) in auto mode\n",
            "update-alternatives: using /usr/lib/jvm/java-8-openjdk-amd64/bin/jsadebugd to provide /usr/bin/jsadebugd (jsadebugd) in auto mode\n",
            "update-alternatives: using /usr/lib/jvm/java-8-openjdk-amd64/bin/native2ascii to provide /usr/bin/native2ascii (native2ascii) in auto mode\n",
            "update-alternatives: using /usr/lib/jvm/java-8-openjdk-amd64/bin/schemagen to provide /usr/bin/schemagen (schemagen) in auto mode\n",
            "update-alternatives: using /usr/lib/jvm/java-8-openjdk-amd64/bin/wsgen to provide /usr/bin/wsgen (wsgen) in auto mode\n",
            "update-alternatives: using /usr/lib/jvm/java-8-openjdk-amd64/bin/wsimport to provide /usr/bin/wsimport (wsimport) in auto mode\n",
            "update-alternatives: using /usr/lib/jvm/java-8-openjdk-amd64/bin/xjc to provide /usr/bin/xjc (xjc) in auto mode\n",
            "Processing triggers for libc-bin (2.35-0ubuntu3.4) ...\n",
            "/sbin/ldconfig.real: /usr/local/lib/libtbbmalloc_proxy.so.2 is not a symbolic link\n",
            "\n",
            "/sbin/ldconfig.real: /usr/local/lib/libtbbbind_2_5.so.3 is not a symbolic link\n",
            "\n",
            "/sbin/ldconfig.real: /usr/local/lib/libtbbmalloc.so.2 is not a symbolic link\n",
            "\n",
            "/sbin/ldconfig.real: /usr/local/lib/libtbbbind.so.3 is not a symbolic link\n",
            "\n",
            "/sbin/ldconfig.real: /usr/local/lib/libtbbbind_2_0.so.3 is not a symbolic link\n",
            "\n",
            "/sbin/ldconfig.real: /usr/local/lib/libtbb.so.12 is not a symbolic link\n",
            "\n"
          ]
        }
      ],
      "source": [
        "!pip install pyspark\n",
        "!pip install -U -q PyDrive\n",
        "!apt install openjdk-8-jdk-headless -qq\n",
        "import os\n",
        "os.environ[\"JAVA_HOME\"] = \"/usr/lib/jvm/java-8-openjdk-amd64\""
      ]
    },
    {
      "cell_type": "code",
      "source": [
        "import pyspark\n",
        "from pyspark.sql import SparkSession\n",
        "from pyspark import SparkConf\n",
        "\n",
        "from pyspark.sql.functions import col, split, explode, trim, lower, collect_list, regexp_replace, array, concat, struct\n",
        "from pyspark.sql import functions as F\n",
        "from pyspark.sql.types import IntegerType, StringType\n",
        "from pyspark.ml.feature import Tokenizer, HashingTF, IDF, OneHotEncoder, StringIndexer, VectorAssembler, StandardScaler, IndexToString\n",
        "from pyspark.ml.linalg import SparseVector\n",
        "from pyspark.ml.recommendation import ALS\n",
        "\n",
        "from pyspark.ml.clustering import KMeans\n",
        "import matplotlib.pyplot as plt\n",
        "from pyspark.ml import Pipeline\n",
        "import numpy as np\n",
        "\n",
        "\n",
        "spark = SparkSession.builder \\\n",
        "    .appName(\"Anime Recommendation System\") \\\n",
        "    .getOrCreate()"
      ],
      "metadata": {
        "id": "1v_NN8oaeRZo"
      },
      "execution_count": null,
      "outputs": []
    },
    {
      "cell_type": "code",
      "source": [
        "anime_df = spark.read.csv('anime.csv', header=True, inferSchema=True)\n",
        "ratings_df = spark.read.csv('rating.csv', header=True, inferSchema=True)\n",
        "\n",
        "anime_df.show()\n",
        "ratings_df.show()"
      ],
      "metadata": {
        "colab": {
          "base_uri": "https://localhost:8080/"
        },
        "id": "eAb0HAjmfrKd",
        "outputId": "c380cdb6-aed6-42f1-fa5b-81b1492ee1ac"
      },
      "execution_count": null,
      "outputs": [
        {
          "output_type": "stream",
          "name": "stdout",
          "text": [
            "+--------+--------------------+--------------------+-----+--------+------+-------+\n",
            "|anime_id|                name|               genre| type|episodes|rating|members|\n",
            "+--------+--------------------+--------------------+-----+--------+------+-------+\n",
            "|   32281|      Kimi no Na wa.|Drama, Romance, S...|Movie|       1|  9.37| 200630|\n",
            "|    5114|Fullmetal Alchemi...|Action, Adventure...|   TV|      64|  9.26| 793665|\n",
            "|   28977|            Gintama°|Action, Comedy, H...|   TV|      51|  9.25| 114262|\n",
            "|    9253|         Steins;Gate|    Sci-Fi, Thriller|   TV|      24|  9.17| 673572|\n",
            "|    9969|       Gintama&#039;|Action, Comedy, H...|   TV|      51|  9.16| 151266|\n",
            "|   32935|Haikyuu!!: Karasu...|Comedy, Drama, Sc...|   TV|      10|  9.15|  93351|\n",
            "|   11061|Hunter x Hunter (...|Action, Adventure...|   TV|     148|  9.13| 425855|\n",
            "|     820|Ginga Eiyuu Densetsu|Drama, Military, ...|  OVA|     110|  9.11|  80679|\n",
            "|   15335|Gintama Movie: Ka...|Action, Comedy, H...|Movie|       1|   9.1|  72534|\n",
            "|   15417|Gintama&#039;: En...|Action, Comedy, H...|   TV|      13|  9.11|  81109|\n",
            "|    4181|Clannad: After Story|Drama, Fantasy, R...|   TV|      24|  9.06| 456749|\n",
            "|   28851|      Koe no Katachi|Drama, School, Sh...|Movie|       1|  9.05| 102733|\n",
            "|     918|             Gintama|Action, Comedy, H...|   TV|     201|  9.04| 336376|\n",
            "|    2904|Code Geass: Hangy...|Action, Drama, Me...|   TV|      25|  8.98| 572888|\n",
            "|   28891|Haikyuu!! Second ...|Comedy, Drama, Sc...|   TV|      25|  8.93| 179342|\n",
            "|     199|Sen to Chihiro no...|Adventure, Drama,...|Movie|       1|  8.93| 466254|\n",
            "|   23273|Shigatsu wa Kimi ...|Drama, Music, Rom...|   TV|      22|  8.92| 416397|\n",
            "|   24701|Mushishi Zoku Sho...|Adventure, Fantas...|   TV|      10|  8.88|  75894|\n",
            "|   12355|Ookami Kodomo no ...|Fantasy, Slice of...|Movie|       1|  8.84| 226193|\n",
            "|    1575|Code Geass: Hangy...|Action, Mecha, Mi...|   TV|      25|  8.83| 715151|\n",
            "+--------+--------------------+--------------------+-----+--------+------+-------+\n",
            "only showing top 20 rows\n",
            "\n",
            "+-------+--------+------+\n",
            "|user_id|anime_id|rating|\n",
            "+-------+--------+------+\n",
            "|      1|      20|    -1|\n",
            "|      1|      24|    -1|\n",
            "|      1|      79|    -1|\n",
            "|      1|     226|    -1|\n",
            "|      1|     241|    -1|\n",
            "|      1|     355|    -1|\n",
            "|      1|     356|    -1|\n",
            "|      1|     442|    -1|\n",
            "|      1|     487|    -1|\n",
            "|      1|     846|    -1|\n",
            "|      1|     936|    -1|\n",
            "|      1|    1546|    -1|\n",
            "|      1|    1692|    -1|\n",
            "|      1|    1836|    -1|\n",
            "|      1|    2001|    -1|\n",
            "|      1|    2025|    -1|\n",
            "|      1|    2144|    -1|\n",
            "|      1|    2787|    -1|\n",
            "|      1|    2993|    -1|\n",
            "|      1|    3455|    -1|\n",
            "+-------+--------+------+\n",
            "only showing top 20 rows\n",
            "\n"
          ]
        }
      ]
    },
    {
      "cell_type": "markdown",
      "source": [
        "# **Content Based Filtering**"
      ],
      "metadata": {
        "id": "Vr00pAzf2pWz"
      }
    },
    {
      "cell_type": "code",
      "source": [
        "# casting anime_id in both csv files to integer\n",
        "anime_df = anime_df.withColumn(\"anime_id\", col(\"anime_id\").cast(IntegerType()))\n",
        "ratings_df = ratings_df.withColumn(\"anime_id\", col(\"anime_id\").cast(IntegerType()))\n",
        "\n",
        "# removing rows with rating less than 0\n",
        "ratings_df = ratings_df.filter(ratings_df[\"rating\"] >= 0)\n",
        "\n",
        "anime_df.show(5)"
      ],
      "metadata": {
        "colab": {
          "base_uri": "https://localhost:8080/"
        },
        "id": "GTzjte2sluNC",
        "outputId": "88dfb586-606c-4c5b-84f9-90ac4030ddc4"
      },
      "execution_count": null,
      "outputs": [
        {
          "output_type": "stream",
          "name": "stdout",
          "text": [
            "+--------+--------------------+--------------------+-----+--------+------+-------+\n",
            "|anime_id|                name|               genre| type|episodes|rating|members|\n",
            "+--------+--------------------+--------------------+-----+--------+------+-------+\n",
            "|   32281|      Kimi no Na wa.|Drama, Romance, S...|Movie|       1|  9.37| 200630|\n",
            "|    5114|Fullmetal Alchemi...|Action, Adventure...|   TV|      64|  9.26| 793665|\n",
            "|   28977|            Gintama°|Action, Comedy, H...|   TV|      51|  9.25| 114262|\n",
            "|    9253|         Steins;Gate|    Sci-Fi, Thriller|   TV|      24|  9.17| 673572|\n",
            "|    9969|       Gintama&#039;|Action, Comedy, H...|   TV|      51|  9.16| 151266|\n",
            "+--------+--------------------+--------------------+-----+--------+------+-------+\n",
            "only showing top 5 rows\n",
            "\n"
          ]
        }
      ]
    },
    {
      "cell_type": "code",
      "source": [
        "# checking if genre is not null or empty string\n",
        "anime_df = anime_df.filter(col(\"genre\").isNotNull() & (col(\"genre\") != \"\"))\n",
        "anime_df = anime_df.withColumn(\"genre\", col(\"genre\").cast(StringType()))\n",
        "\n",
        "\n",
        "# tokenizing on the base of anime title\n",
        "tokenizer_title = Tokenizer(inputCol=\"name\", outputCol=\"title_words\")\n",
        "anime_words_df = tokenizer_title.transform(anime_df)\n",
        "\n",
        "# creating TF-IDF based vectors for titles to be used for cosine similarity later\n",
        "hashingTF_title = HashingTF(inputCol=\"title_words\", outputCol=\"title_rawFeatures\", numFeatures=1000)\n",
        "tf_df_title = hashingTF_title.transform(anime_words_df)\n",
        "\n",
        "idf_title = IDF(inputCol=\"title_rawFeatures\", outputCol=\"title_features\")\n",
        "tfidf_df_title = idf_title.fit(tf_df_title).transform(tf_df_title)\n",
        "tfidf_df_title.show(5)\n",
        "\n",
        "########################################################################################################################################################\n",
        "\n",
        "# tokenizing on the base of anime genre\n",
        "tokenizer_genre = Tokenizer(inputCol=\"genre\", outputCol=\"genre_words\")\n",
        "genre_words_df = tokenizer_genre.transform(anime_df)\n",
        "\n",
        "# removing extra comma at end of each index\n",
        "genre_words_df = genre_words_df.withColumn(\n",
        "    \"genre_words\",\n",
        "    array(*[regexp_replace(col(\"genre_words\")[i], \",\", \"\").alias(\"genre_word\") for i in range(len(genre_words_df.select(\"genre_words\").first()[0]))])\n",
        ")\n",
        "\n",
        "# creating TF-IDF based vectors for genres to be used for cosine similarity later\n",
        "hashingTF_genre = HashingTF(inputCol=\"genre_words\", outputCol=\"genre_rawFeatures\", numFeatures=1000)\n",
        "tf_df_genre = hashingTF_genre.transform(genre_words_df)\n",
        "\n",
        "idf_genre = IDF(inputCol=\"genre_rawFeatures\", outputCol=\"genre_features\")\n",
        "tfidf_df_genre = idf_genre.fit(tf_df_genre).transform(tf_df_genre)\n",
        "tfidf_df_genre.show(5)"
      ],
      "metadata": {
        "colab": {
          "base_uri": "https://localhost:8080/"
        },
        "id": "_l-clP42mwBa",
        "outputId": "f6db52fb-2e74-4794-c225-839f90f3276e"
      },
      "execution_count": null,
      "outputs": [
        {
          "output_type": "stream",
          "name": "stdout",
          "text": [
            "+--------+--------------------+--------------------+-----+--------+------+-------+--------------------+--------------------+--------------------+\n",
            "|anime_id|                name|               genre| type|episodes|rating|members|         title_words|   title_rawFeatures|      title_features|\n",
            "+--------+--------------------+--------------------+-----+--------+------+-------+--------------------+--------------------+--------------------+\n",
            "|   32281|      Kimi no Na wa.|Drama, Romance, S...|Movie|       1|  9.37| 200630| [kimi, no, na, wa.]|(1000,[304,704,82...|(1000,[304,704,82...|\n",
            "|    5114|Fullmetal Alchemi...|Action, Adventure...|   TV|      64|  9.26| 793665|[fullmetal, alche...|(1000,[85,113,885...|(1000,[85,113,885...|\n",
            "|   28977|            Gintama°|Action, Comedy, H...|   TV|      51|  9.25| 114262|          [gintama°]|  (1000,[921],[1.0])|(1000,[921],[5.91...|\n",
            "|    9253|         Steins;Gate|    Sci-Fi, Thriller|   TV|      24|  9.17| 673572|       [steins;gate]|  (1000,[664],[1.0])|(1000,[664],[6.84...|\n",
            "|    9969|       Gintama&#039;|Action, Comedy, H...|   TV|      51|  9.16| 151266|     [gintama&#039;]|  (1000,[241],[1.0])|(1000,[241],[6.92...|\n",
            "+--------+--------------------+--------------------+-----+--------+------+-------+--------------------+--------------------+--------------------+\n",
            "only showing top 5 rows\n",
            "\n",
            "+--------+--------------------+--------------------+-----+--------+------+-------+--------------------+--------------------+--------------------+\n",
            "|anime_id|                name|               genre| type|episodes|rating|members|         genre_words|   genre_rawFeatures|      genre_features|\n",
            "+--------+--------------------+--------------------+-----+--------+------+-------+--------------------+--------------------+--------------------+\n",
            "|   32281|      Kimi no Na wa.|Drama, Romance, S...|Movie|       1|  9.37| 200630|[drama, romance, ...|(1000,[60,144,526...|(1000,[60,144,526...|\n",
            "|    5114|Fullmetal Alchemi...|Action, Adventure...|   TV|      64|  9.26| 793665|[action, adventur...|(1000,[144,633,83...|(1000,[144,633,83...|\n",
            "|   28977|            Gintama°|Action, Comedy, H...|   TV|      51|  9.25| 114262|[action, comedy, ...|(1000,[232,633,79...|(1000,[232,633,79...|\n",
            "|    9253|         Steins;Gate|    Sci-Fi, Thriller|   TV|      24|  9.17| 673572|[sci-fi, thriller...|(1000,[42,586,966...|(1000,[42,586,966...|\n",
            "|    9969|       Gintama&#039;|Action, Comedy, H...|   TV|      51|  9.16| 151266|[action, comedy, ...|(1000,[232,633,79...|(1000,[232,633,79...|\n",
            "+--------+--------------------+--------------------+-----+--------+------+-------+--------------------+--------------------+--------------------+\n",
            "only showing top 5 rows\n",
            "\n"
          ]
        }
      ]
    },
    {
      "cell_type": "code",
      "source": [
        "# combining TF-IDF features for title and genre into a single column\n",
        "tfidf_df_combined = tfidf_df_title.join(\n",
        "    tfidf_df_genre.select(\"anime_id\", \"genre_words\", \"genre_rawFeatures\", \"genre_features\"),\n",
        "    on=\"anime_id\",\n",
        "    how=\"inner\"\n",
        ")\n",
        "\n",
        "tfidf_df_combined.show(5, truncate=False)"
      ],
      "metadata": {
        "colab": {
          "base_uri": "https://localhost:8080/"
        },
        "id": "jhTX8NU2DNgz",
        "outputId": "494c3fe4-9805-490f-907f-1634ad78efdf"
      },
      "execution_count": null,
      "outputs": [
        {
          "output_type": "stream",
          "name": "stdout",
          "text": [
            "+--------+--------------------------------+------------------------------------------------------------+-----+--------+------+-------+------------------------------------+------------------------------------------+--------------------------------------------------------------------------------------------------+--------------------------------------+------------------------------------------+-----------------------------------------------------------------------------------------------------+\n",
            "|anime_id|name                            |genre                                                       |type |episodes|rating|members|title_words                         |title_rawFeatures                         |title_features                                                                                    |genre_words                           |genre_rawFeatures                         |genre_features                                                                                       |\n",
            "+--------+--------------------------------+------------------------------------------------------------+-----+--------+------+-------+------------------------------------+------------------------------------------+--------------------------------------------------------------------------------------------------+--------------------------------------+------------------------------------------+-----------------------------------------------------------------------------------------------------+\n",
            "|32281   |Kimi no Na wa.                  |Drama, Romance, School, Supernatural                        |Movie|1       |9.37  |200630 |[kimi, no, na, wa.]                 |(1000,[304,704,821,850],[1.0,1.0,1.0,1.0])|(1000,[304,704,821,850],[4.84754430557908,1.4005373878856304,6.233838666698971,4.305947023146336])|[drama, romance, school, supernatural]|(1000,[60,144,526,679],[1.0,1.0,1.0,1.0]) |(1000,[60,144,526,679],[3.2033024709502875,1.803021867855657,2.3102165254274727,2.4553470538953475]) |\n",
            "|5114    |Fullmetal Alchemist: Brotherhood|Action, Adventure, Drama, Fantasy, Magic, Military, Shounen |TV   |64      |9.26  |793665 |[fullmetal, alchemist:, brotherhood]|(1000,[85,113,885],[1.0,1.0,1.0])         |(1000,[85,113,885],[5.177785992449657,6.233838666698971,5.8565444355575025])                      |[action, adventure, drama, fantasy]   |(1000,[144,633,833,859],[1.0,1.0,1.0,1.0])|(1000,[144,633,833,859],[1.803021867855657,1.4582227183971188,1.6501475123880036,1.6847980122670747])|\n",
            "|28977   |Gintama°                        |Action, Comedy, Historical, Parody, Samurai, Sci-Fi, Shounen|TV   |51      |9.25  |114262 |[gintama°]                          |(1000,[921],[1.0])                        |(1000,[921],[5.915384935580436])                                                                  |[action, comedy, historical, parody]  |(1000,[232,633,791,796],[1.0,1.0,1.0,1.0])|(1000,[232,633,791,796],[0.9681305837165619,1.4582227183971188,2.752598577363279,3.47435629196449])  |\n",
            "|9253    |Steins;Gate                     |Sci-Fi, Thriller                                            |TV   |24      |9.17  |673572 |[steins;gate]                       |(1000,[664],[1.0])                        |(1000,[664],[6.846943139585379])                                                                  |[sci-fi, thriller, NULL, NULL]        |(1000,[42,586,966],[2.0,1.0,1.0])         |(1000,[42,586,966],[1.0498609243615775,5.422908450482642,2.0492472266290918])                        |\n",
            "|9969    |Gintama&#039;                   |Action, Comedy, Historical, Parody, Samurai, Sci-Fi, Shounen|TV   |51      |9.16  |151266 |[gintama&#039;]                     |(1000,[241],[1.0])                        |(1000,[241],[6.926985847258916])                                                                  |[action, comedy, historical, parody]  |(1000,[232,633,791,796],[1.0,1.0,1.0,1.0])|(1000,[232,633,791,796],[0.9681305837165619,1.4582227183971188,2.752598577363279,3.47435629196449])  |\n",
            "+--------+--------------------------------+------------------------------------------------------------+-----+--------+------+-------+------------------------------------+------------------------------------------+--------------------------------------------------------------------------------------------------+--------------------------------------+------------------------------------------+-----------------------------------------------------------------------------------------------------+\n",
            "only showing top 5 rows\n",
            "\n"
          ]
        }
      ]
    },
    {
      "cell_type": "code",
      "source": [
        "def cosine_similarity(v1, v2):\n",
        "    dot_product = float(v1.dot(v2))\n",
        "    norm1 = np.linalg.norm(v1.toArray())\n",
        "    norm2 = np.linalg.norm(v2.toArray())\n",
        "    if norm1 == 0 or norm2 == 0:\n",
        "        return 0\n",
        "    return dot_product / (norm1 * norm2)"
      ],
      "metadata": {
        "id": "b6kJKFND3tj-"
      },
      "execution_count": null,
      "outputs": []
    },
    {
      "cell_type": "code",
      "source": [
        "def recommend_anime(user_id, ratings_df, anime_df, tfidf_df_combined, top_n=5):\n",
        "    # IDs of all animes rated by user\n",
        "    user_ratings = ratings_df.filter(col(\"user_id\") == user_id).select(\"anime_id\", \"rating\").collect()\n",
        "\n",
        "    if not user_ratings:\n",
        "        return []\n",
        "\n",
        "    # extracting only N top rated animes\n",
        "    if len(user_ratings) > 10:\n",
        "      user_ratings = sorted(user_ratings, key=lambda x: x[\"rating\"], reverse=True)[:10]\n",
        "\n",
        "    rated_anime_ids = [rating[\"anime_id\"] for rating in user_ratings]\n",
        "\n",
        "    ######################################################################################################################################\n",
        "    # TF-IDF vectors for the user's rated anime genre features\n",
        "    user_anime_vectors = tfidf_df_combined.filter(col(\"anime_id\").isin(rated_anime_ids)).select(\"genre_features\").collect()\n",
        "\n",
        "    # calculating cosine similarity\n",
        "    similar_genres = []\n",
        "    for row in tfidf_df_combined.collect():\n",
        "        anime_id = row[\"anime_id\"]\n",
        "        if anime_id in rated_anime_ids:\n",
        "            continue\n",
        "\n",
        "        max_similarity = 0\n",
        "        for user_vector in user_anime_vectors:\n",
        "            similarity = cosine_similarity(\n",
        "                user_vector[\"genre_features\"],\n",
        "                row[\"genre_features\"]\n",
        "            )\n",
        "            max_similarity = max(max_similarity, similarity)\n",
        "\n",
        "        similar_genres.append((anime_id, max_similarity))\n",
        "\n",
        "    # sorting and return the top N recommended anime based on genre\n",
        "    similar_genres_sorted = sorted(similar_genres, key=lambda x: x[1], reverse=True)[:top_n]\n",
        "\n",
        "    # names of recommended anime based on genre\n",
        "    recommended_anime_genres = [\n",
        "        anime_df.filter(col(\"anime_id\") == rec[0]).select(\"name\").collect()[0][\"name\"]\n",
        "        for rec in similar_genres_sorted\n",
        "    ]\n",
        "    ######################################################################################################################################\n",
        "    # list of animes already recommended based on genre so that we can make sure they are not recommended again\n",
        "    already_recommended_anime_ids = [item[0] for item in similar_genres_sorted]\n",
        "\n",
        "    # TF-IDF vectors for the user's rated anime title features\n",
        "    user_anime_vectors = tfidf_df_combined.filter(col(\"anime_id\").isin(rated_anime_ids)).select(\"title_features\").collect()\n",
        "\n",
        "    # calculating cosine similarity\n",
        "    similar_titles = []\n",
        "    for row in tfidf_df_combined.collect():\n",
        "        anime_id = row[\"anime_id\"]\n",
        "        if (anime_id in rated_anime_ids) or (anime_id in already_recommended_anime_ids):\n",
        "            continue\n",
        "\n",
        "        max_similarity = 0\n",
        "        for user_vector in user_anime_vectors:\n",
        "            similarity = cosine_similarity(\n",
        "                user_vector[\"title_features\"],\n",
        "                row[\"title_features\"]\n",
        "            )\n",
        "            max_similarity = max(max_similarity, similarity)\n",
        "\n",
        "        similar_titles.append((anime_id, max_similarity))\n",
        "\n",
        "    # sorting and return the top N recommended anime based on title\n",
        "    similar_titles_sorted = sorted(similar_titles, key=lambda x: x[1], reverse=True)[:top_n]\n",
        "\n",
        "    # names of recommended anime based on title\n",
        "    recommended_anime_titles = [\n",
        "        anime_df.filter(col(\"anime_id\") == rec[0]).select(\"name\").collect()[0][\"name\"]\n",
        "        for rec in similar_titles_sorted\n",
        "    ]\n",
        "    ######################################################################################################################################\n",
        "    recommended_anime =  recommended_anime_genres + recommended_anime_titles\n",
        "\n",
        "    return recommended_anime"
      ],
      "metadata": {
        "id": "iq_wk4ML3xxp"
      },
      "execution_count": null,
      "outputs": []
    },
    {
      "cell_type": "code",
      "source": [
        "user_id = 2\n",
        "recommended_anime = recommend_anime(user_id, ratings_df, anime_df, tfidf_df_combined, top_n=5)\n",
        "\n",
        "print(\"Recommended Anime: \\n\")\n",
        "for anime in recommended_anime:\n",
        "    print(anime)"
      ],
      "metadata": {
        "colab": {
          "base_uri": "https://localhost:8080/"
        },
        "id": "-1n1Szdf30De",
        "outputId": "cd204efb-f9fe-4229-869a-2342ea58de61"
      },
      "execution_count": null,
      "outputs": [
        {
          "output_type": "stream",
          "name": "stdout",
          "text": [
            "Recommended Anime: \n",
            "\n",
            "Kuroko no Basket 3rd Season\n",
            "Kuroko no Basket 2nd Season\n",
            "Diamond no Ace: Second Season\n",
            "Diamond no Ace\n",
            "Prince of Tennis: The National Tournament Finals\n",
            "Kuroko no Basket NG-shuu\n",
            "Kuroko no Basket 2nd Season NG-shuu\n",
            "Baccano!\n",
            "Kuroko no Basket 3rd Season NG-shuu\n",
            "Toilet no Hanako-san\n"
          ]
        }
      ]
    },
    {
      "cell_type": "markdown",
      "source": [
        "Titles that \"user_id = 334\" has rated in the dataset\n",
        "\n",
        "Naruto,\n",
        "Bokusatsu Tenshi Dokuro-chan,\n",
        "Death Note,\n",
        "Code Geass: Hangyaku no Lelouch,\n",
        "Bokusatsu Tenshi Dokuro-chan 2,\n",
        "Code Geass: Hangyaku no Lelouch R2,\n",
        "Bakemonogatari,\n",
        "Kiss x Sis (TV),\n",
        "Steins;Gate,\n",
        "JoJo no Kimyou na Bouken (TV)"
      ],
      "metadata": {
        "id": "VdhlGrEQQeTv"
      }
    },
    {
      "cell_type": "markdown",
      "source": [
        "# **Collaborative Filtering**"
      ],
      "metadata": {
        "id": "sANMBTdp0uSJ"
      }
    },
    {
      "cell_type": "code",
      "source": [
        "anime_df = spark.read.csv('anime.csv', header=True, inferSchema=True)\n",
        "ratings_df = spark.read.csv('rating.csv', header=True, inferSchema=True)\n",
        "\n",
        "# removing rating from anime_dataset since we are only considering user_rating\n",
        "anime_data = anime_df.drop('rating')\n",
        "\n",
        "# merge data on the anime_id column\n",
        "data = anime_data.join(ratings_df, on='anime_id', how='inner')\n",
        "data.show(10)"
      ],
      "metadata": {
        "colab": {
          "base_uri": "https://localhost:8080/"
        },
        "id": "FOfErXXc0ccX",
        "outputId": "70df94bb-69a3-449c-da97-b3fbff53cdfc"
      },
      "execution_count": null,
      "outputs": [
        {
          "output_type": "stream",
          "name": "stdout",
          "text": [
            "+--------+--------------------+--------------------+-----+--------+-------+-------+------+\n",
            "|anime_id|                name|               genre| type|episodes|members|user_id|rating|\n",
            "+--------+--------------------+--------------------+-----+--------+-------+-------+------+\n",
            "|      20|              Naruto|Action, Comedy, M...|   TV|     220| 683297|      1|    -1|\n",
            "|      24|       School Rumble|Comedy, Romance, ...|   TV|      26| 178553|      1|    -1|\n",
            "|      79|            Shuffle!|Comedy, Drama, Ec...|   TV|      24| 158772|      1|    -1|\n",
            "|     226|          Elfen Lied|Action, Drama, Ho...|   TV|      13| 623511|      1|    -1|\n",
            "|     241|Girls Bravo: Firs...|Comedy, Ecchi, Fa...|   TV|      11|  84395|      1|    -1|\n",
            "|     355|   Shakugan no Shana|Action, Drama, Fa...|   TV|      24| 297058|      1|    -1|\n",
            "|     356|     Fate/stay night|Action, Fantasy, ...|   TV|      24| 374880|      1|    -1|\n",
            "|     442|Naruto Movie 1: D...|Adventure, Comedy...|Movie|       1| 120571|      1|    -1|\n",
            "|     487|Girls Bravo: Seco...|Comedy, Ecchi, Fa...|   TV|      13|  57110|      1|    -1|\n",
            "|     846|School Rumble Ni ...|Comedy, Romance, ...|   TV|      26|  93095|      1|    -1|\n",
            "+--------+--------------------+--------------------+-----+--------+-------+-------+------+\n",
            "only showing top 10 rows\n",
            "\n"
          ]
        }
      ]
    },
    {
      "cell_type": "code",
      "source": [
        "# filter dataset for recommender system\n",
        "data = data.selectExpr('user_id','name','rating') # here rating is the rating given by user\n",
        "# converting the rating and user_id to integer so that we can perform ALS on it\n",
        "data = data.withColumn('rating',data['rating'].cast('int')).withColumn('user_id',data['user_id'].cast('int'))\n",
        "\n",
        "data.show(10)\n",
        "\n",
        "# StringIndexer assigns unique numerical value to each name\n",
        "indexer = StringIndexer(inputCol=\"name\", outputCol=\"name_idx\")\n",
        "indexer = indexer.fit(data)\n",
        "data_transformed = indexer.transform(data)\n",
        "\n",
        "data_transformed.show(10)"
      ],
      "metadata": {
        "colab": {
          "base_uri": "https://localhost:8080/"
        },
        "id": "kfYmty4A1AyM",
        "outputId": "e351ecfc-96fd-421d-9805-668a4aaf19ec"
      },
      "execution_count": null,
      "outputs": [
        {
          "output_type": "stream",
          "name": "stdout",
          "text": [
            "+-------+--------------------+------+\n",
            "|user_id|                name|rating|\n",
            "+-------+--------------------+------+\n",
            "|      1|              Naruto|    -1|\n",
            "|      1|       School Rumble|    -1|\n",
            "|      1|            Shuffle!|    -1|\n",
            "|      1|          Elfen Lied|    -1|\n",
            "|      1|Girls Bravo: Firs...|    -1|\n",
            "|      1|   Shakugan no Shana|    -1|\n",
            "|      1|     Fate/stay night|    -1|\n",
            "|      1|Naruto Movie 1: D...|    -1|\n",
            "|      1|Girls Bravo: Seco...|    -1|\n",
            "|      1|School Rumble Ni ...|    -1|\n",
            "+-------+--------------------+------+\n",
            "only showing top 10 rows\n",
            "\n",
            "+-------+--------------------+------+--------+\n",
            "|user_id|                name|rating|name_idx|\n",
            "+-------+--------------------+------+--------+\n",
            "|      1|              Naruto|    -1|     6.0|\n",
            "|      1|       School Rumble|    -1|   214.0|\n",
            "|      1|            Shuffle!|    -1|   216.0|\n",
            "|      1|          Elfen Lied|    -1|     4.0|\n",
            "|      1|Girls Bravo: Firs...|    -1|   488.0|\n",
            "|      1|   Shakugan no Shana|    -1|    76.0|\n",
            "|      1|     Fate/stay night|    -1|    41.0|\n",
            "|      1|Naruto Movie 1: D...|    -1|   182.0|\n",
            "|      1|Girls Bravo: Seco...|    -1|   663.0|\n",
            "|      1|School Rumble Ni ...|    -1|   381.0|\n",
            "+-------+--------------------+------+--------+\n",
            "only showing top 10 rows\n",
            "\n"
          ]
        }
      ]
    },
    {
      "cell_type": "code",
      "source": [
        "data_transformed.columns"
      ],
      "metadata": {
        "colab": {
          "base_uri": "https://localhost:8080/"
        },
        "id": "kyDMocwy1H1A",
        "outputId": "03d0903a-320d-410d-bccc-c7ef79489b4b"
      },
      "execution_count": null,
      "outputs": [
        {
          "output_type": "execute_result",
          "data": {
            "text/plain": [
              "['user_id', 'name', 'rating', 'name_idx']"
            ]
          },
          "metadata": {},
          "execution_count": 21
        }
      ]
    },
    {
      "cell_type": "code",
      "source": [
        "# dataset split into training and testing set\n",
        "(training_data, test_data) = data_transformed.randomSplit([0.75, 0.25])\n",
        "\n",
        "# training the model\n",
        "als_model = ALS(implicitPrefs=False,ratingCol='rating',userCol=\"user_id\", itemCol=\"name_idx\",maxIter=10)\n",
        "model = als_model.fit(training_data)"
      ],
      "metadata": {
        "id": "njrFx7Mg1Vys"
      },
      "execution_count": null,
      "outputs": []
    },
    {
      "cell_type": "code",
      "source": [
        "# predictions\n",
        "from pyspark.ml.evaluation import RegressionEvaluator\n",
        "\n",
        "predictions = model.transform(test_data)\n",
        "predictions = predictions.na.drop(subset=[\"prediction\"])\n",
        "\n",
        "# evaluating the model by computing the RMSE\n",
        "evaluator = RegressionEvaluator(metricName=\"rmse\", labelCol=\"rating\", predictionCol=\"prediction\")\n",
        "rmse = evaluator.evaluate(predictions)\n",
        "\n",
        "print(f\"Root Mean Square Error (RMSE): {rmse}\")"
      ],
      "metadata": {
        "colab": {
          "base_uri": "https://localhost:8080/"
        },
        "id": "YVwywRVyneUz",
        "outputId": "3b2b1b55-f50d-49f5-a135-f680461aca60"
      },
      "execution_count": null,
      "outputs": [
        {
          "output_type": "stream",
          "name": "stdout",
          "text": [
            "Root Mean Square Error (RMSE): 2.0443922191959305\n"
          ]
        }
      ]
    },
    {
      "cell_type": "code",
      "source": [
        "labels = indexer.labels\n",
        "\n",
        "idx_to_name={x:y for x,y in enumerate(list(labels))}"
      ],
      "metadata": {
        "id": "_Ke6QQaH1XSR"
      },
      "execution_count": null,
      "outputs": []
    },
    {
      "cell_type": "code",
      "source": [
        "user_id =  3\n",
        "\n",
        "output = model.recommendForAllUsers(5).filter(col('user_id')==user_id).select(\"recommendations\").collect()\n",
        "print(output)\n",
        "anime = []\n",
        "for item in output[0][0]:\n",
        "  anime.append(idx_to_name[item.name_idx])"
      ],
      "metadata": {
        "colab": {
          "base_uri": "https://localhost:8080/"
        },
        "id": "4SDR5r251gMW",
        "outputId": "7436969b-7cde-4db1-8fc0-109807a90b94"
      },
      "execution_count": null,
      "outputs": [
        {
          "output_type": "stream",
          "name": "stdout",
          "text": [
            "[Row(recommendations=[Row(name_idx=8182, rating=11.471681594848633), Row(name_idx=7499, rating=10.68071174621582), Row(name_idx=7825, rating=10.583542823791504), Row(name_idx=7876, rating=10.28482723236084), Row(name_idx=8799, rating=10.154970169067383)])]\n"
          ]
        }
      ]
    },
    {
      "cell_type": "code",
      "source": [
        "print(\"Recommended Anime: \\n\")\n",
        "for a in anime:\n",
        "  print(a)"
      ],
      "metadata": {
        "colab": {
          "base_uri": "https://localhost:8080/"
        },
        "id": "ue7v5f9N1mtN",
        "outputId": "709f417b-b391-462c-aaa5-b24a21a2285e"
      },
      "execution_count": null,
      "outputs": [
        {
          "output_type": "stream",
          "name": "stdout",
          "text": [
            "Recommended Anime: \n",
            "\n",
            "Esper Mami: Hoshizora no Dancing Doll\n",
            "Ginga Tetsudou no Yoru: Fantasy Railroad in the Stars\n",
            "Monkey Turn\n",
            "Chogattai Majutsu Robot Ginguiser\n",
            "Wansa-kun\n"
          ]
        }
      ]
    },
    {
      "cell_type": "markdown",
      "source": [
        "# **User Segmentation and Anime Analysis Using Kmeans**\n"
      ],
      "metadata": {
        "id": "fwnu91dY-I9F"
      }
    },
    {
      "cell_type": "code",
      "source": [
        "# reading and cleaning dataset\n",
        "def read_data_set():\n",
        "  anime_df = spark.read.csv('anime.csv', header=True, inferSchema=True)\n",
        "  ratings_df = spark.read.csv('rating.csv', header=True, inferSchema=True)\n",
        "  ratings_df=ratings_df.withColumnRenamed(\"rating\", \"userrating\")\n",
        "  return anime_df,ratings_df\n",
        "\n",
        "def clean_data_set(anime_df,ratings_df):\n",
        "  anime_df = anime_df.withColumn(\"anime_id\", col(\"anime_id\").cast(IntegerType()))\n",
        "  ratings_df = ratings_df.withColumn(\"anime_id\", col(\"anime_id\").cast(IntegerType()))\n",
        "  ratings_df = ratings_df.filter(ratings_df[\"userrating\"] >= 0)\n",
        "  anime_df = anime_df.withColumn(\"genre\", split(col(\"genre\"), \", \"))\n",
        "  anime_df = anime_df.fillna(0)\n",
        "  ratings_df = ratings_df.fillna(0)\n",
        "  return anime_df,ratings_df"
      ],
      "metadata": {
        "id": "NwmAAVc5-P2p"
      },
      "execution_count": null,
      "outputs": []
    },
    {
      "cell_type": "markdown",
      "source": [
        "**Perform kmean for Analysis**"
      ],
      "metadata": {
        "id": "VQPPmyny78Ha"
      }
    },
    {
      "cell_type": "code",
      "source": [
        "# combine both datasets on anime_id\n",
        "def combine_dataset(anime_df,ratings_df):\n",
        "  merged_df = anime_df.join(ratings_df, 'anime_id')\n",
        "  merged_df.show(2)\n",
        "  #convert the actual rating and user rating to double dataype\n",
        "  merged_df = merged_df.withColumn('rating', merged_df['rating'].cast('double'))\n",
        "  merged_df = merged_df.withColumn('userrating', merged_df['userrating'].cast('double'))\n",
        "  # merged_df = merged_df.withColumn('members', merged_df['members'].cast('double'))\n",
        "  return merged_df\n",
        "\n",
        "\n",
        "# K-Means clustering for analysis using rating and user_rating\n",
        "def kmean_clustering(merged_df):\n",
        "  feature_cols = ['rating', 'userrating']\n",
        "  assembler = VectorAssembler(inputCols=feature_cols, outputCol=\"features\")\n",
        "  feature_vector = assembler.transform(merged_df)\n",
        "  feature_vector.show()\n",
        "  scaler = StandardScaler(inputCol=\"features\", outputCol=\"scaled_features\", withStd=True, withMean=False)\n",
        "  scaled_data = scaler.fit(feature_vector).transform(feature_vector)\n",
        "  kmeans = KMeans(k=3, seed=42)  # Assuming 3 clusters\n",
        "  model = kmeans.fit(scaled_data)\n",
        "  clustered_df = model.transform(scaled_data)\n",
        "  cluster_centers = model.clusterCenters()\n",
        "  return clustered_df,cluster_centers"
      ],
      "metadata": {
        "id": "AeqINxWr-0-Q"
      },
      "execution_count": null,
      "outputs": []
    },
    {
      "cell_type": "code",
      "source": [
        "# check for best cluster based on WSSE\n",
        "def check_for_best_cluster(clustered_df,cluster_centers):\n",
        "  best_cluster = None\n",
        "  best_cluster_score = float('inf')\n",
        "  for i, center in enumerate(cluster_centers):\n",
        "      # print(f\"Cluster {i+1} Center: {center}\")\n",
        "      distances = clustered_df.rdd.map(lambda point: float(point.features.squared_distance(center)))\n",
        "      within_cluster_sum_squared_distances = distances.reduce(lambda x, y: x + y)\n",
        "      if within_cluster_sum_squared_distances < best_cluster_score:\n",
        "        best_cluster = i + 1\n",
        "        best_cluster_score = within_cluster_sum_squared_distances\n",
        "  print(f\"Best Cluster: {best_cluster}\")\n",
        "  return best_cluster"
      ],
      "metadata": {
        "id": "TcWIW9SX-27V"
      },
      "execution_count": null,
      "outputs": []
    },
    {
      "cell_type": "code",
      "source": [
        "# function to get most loved animes\n",
        "def get_analysis(best_cluster,n):\n",
        "  best_cluster_df = clustered_df.filter(clustered_df.prediction == best_cluster)\n",
        "  avg_rating_df = best_cluster_df.groupBy('anime_id', 'name').agg(\n",
        "      F.avg('rating').alias('avg_rating'),\n",
        "      F.avg('userrating').alias('avg_user_rating')\n",
        "  )\n",
        "  avg_rating_df = avg_rating_df.withColumn('combined_score',\n",
        "                                          (F.col('avg_rating') + F.col('avg_user_rating')) / 2)\n",
        "  top_10_anime = avg_rating_df.orderBy('combined_score', ascending=False).limit(n)\n",
        "  top_10_anime.select(\"anime_id\",\"name\").distinct().show()"
      ],
      "metadata": {
        "id": "SdlzRuNl-67-"
      },
      "execution_count": null,
      "outputs": []
    },
    {
      "cell_type": "code",
      "source": [
        "# perform customer segmentation using K-Means based on user_rating for each anime type\n",
        "def customer_segmentation_by_anime_type(merged_df):\n",
        "    merged_df = merged_df.dropna(subset=['type'])\n",
        "    indexer = StringIndexer(inputCol=\"type\", outputCol=\"type_index\")\n",
        "    encoder = OneHotEncoder(inputCol=\"type_index\", outputCol=\"type_encoded\")\n",
        "    pipeline = Pipeline(stages=[indexer, encoder])\n",
        "    pipeline_model = pipeline.fit(merged_df)\n",
        "    transformed_df = pipeline_model.transform(merged_df)\n",
        "\n",
        "    unique_types = transformed_df.select(\"type\").distinct().rdd.map(lambda row: row[0]).collect()\n",
        "    customer_data = transformed_df.select(['anime_id', 'userrating', 'type_encoded'])\n",
        "    assembler = VectorAssembler(inputCols=['userrating', 'type_encoded'], outputCol='features')\n",
        "    customer_features = assembler.transform(customer_data)\n",
        "    scaler = StandardScaler(inputCol='features', outputCol='scaled_features', withStd=True, withMean=False)\n",
        "    scaled_customer_data = scaler.fit(customer_features).transform(customer_features)\n",
        "    kmeans = KMeans(k=5, seed=42)\n",
        "    model = kmeans.fit(scaled_customer_data)\n",
        "    predictions = model.transform(scaled_customer_data)\n",
        "\n",
        "    return predictions, unique_types"
      ],
      "metadata": {
        "id": "fuQLohZtD49V"
      },
      "execution_count": null,
      "outputs": []
    },
    {
      "cell_type": "code",
      "source": [
        "# visualize results for customer segmentation\n",
        "def visualize_anime_type_clusters(predictions, unique_types):\n",
        "    cluster_avg_rating = predictions.groupBy('prediction').agg(\n",
        "        *[F.avg('userrating').alias('avg_rating_' + anime_type) for anime_type in unique_types]\n",
        "    ).toPandas().set_index('prediction')\n",
        "\n",
        "    cluster_avg_rating = cluster_avg_rating.sort_index()\n",
        "\n",
        "    fig, ax = plt.subplots(figsize=(12, 6))\n",
        "    cluster_avg_rating.plot(kind='bar', ax=ax)\n",
        "    ax.set_xlabel('Cluster')\n",
        "    ax.set_ylabel('Average Rating')\n",
        "    ax.set_title('Average Rating of Anime Types Across Clusters')\n",
        "    plt.xticks(rotation=0)\n",
        "    plt.legend(title='Anime Type')\n",
        "    plt.show()"
      ],
      "metadata": {
        "id": "lmLKBbmxFDoS"
      },
      "execution_count": null,
      "outputs": []
    },
    {
      "cell_type": "code",
      "source": [
        "print(\"PERFORMING ANALYSIS TO GET THE MOST LOVED ANIMES SO FAR........\")\n",
        "anime_df,ratings_df=read_data_set()\n",
        "anime_df,ratings_df=clean_data_set(anime_df,ratings_df)\n",
        "merged_df= combine_dataset(anime_df,ratings_df)\n",
        "clustered_df,cluster_centers=kmean_clustering(merged_df)\n",
        "best_cluster=check_for_best_cluster(clustered_df,cluster_centers)"
      ],
      "metadata": {
        "colab": {
          "base_uri": "https://localhost:8080/"
        },
        "id": "WPj6qZFl-79P",
        "outputId": "4667f8e8-d12e-429d-f4c3-87704d64a9b4"
      },
      "execution_count": null,
      "outputs": [
        {
          "output_type": "stream",
          "name": "stdout",
          "text": [
            "PERFORMING ANALYSIS TO GET THE MOST LOVED ANIMES SO FAR........\n",
            "+--------+--------------------+--------------------+----+--------+------+-------+-------+----------+\n",
            "|anime_id|                name|               genre|type|episodes|rating|members|user_id|userrating|\n",
            "+--------+--------------------+--------------------+----+--------+------+-------+-------+----------+\n",
            "|    8074|Highschool of the...|[Action, Ecchi, H...|  TV|      12|  7.46| 535892|      1|        10|\n",
            "|   11617|     High School DxD|[Comedy, Demons, ...|  TV|      12|   7.7| 398660|      1|        10|\n",
            "+--------+--------------------+--------------------+----+--------+------+-------+-------+----------+\n",
            "only showing top 2 rows\n",
            "\n",
            "+--------+--------------------+--------------------+-----+--------+------+-------+-------+----------+-----------+\n",
            "|anime_id|                name|               genre| type|episodes|rating|members|user_id|userrating|   features|\n",
            "+--------+--------------------+--------------------+-----+--------+------+-------+-------+----------+-----------+\n",
            "|    8074|Highschool of the...|[Action, Ecchi, H...|   TV|      12|  7.46| 535892|      1|      10.0|[7.46,10.0]|\n",
            "|   11617|     High School DxD|[Comedy, Demons, ...|   TV|      12|   7.7| 398660|      1|      10.0| [7.7,10.0]|\n",
            "|   11757|    Sword Art Online|[Action, Adventur...|   TV|      25|  7.83| 893100|      1|      10.0|[7.83,10.0]|\n",
            "|   15451| High School DxD New|[Action, Comedy, ...|   TV|      12|  7.87| 266657|      1|      10.0|[7.87,10.0]|\n",
            "|   11771|    Kuroko no Basket|[Comedy, School, ...|   TV|      25|  8.46| 338315|      2|      10.0|[8.46,10.0]|\n",
            "|      20|              Naruto|[Action, Comedy, ...|   TV|     220|  7.81| 683297|      3|       8.0| [7.81,8.0]|\n",
            "|     154|         Shaman King|[Action, Adventur...|   TV|      64|  7.83| 169517|      3|       6.0| [7.83,6.0]|\n",
            "|     170|           Slam Dunk|[Comedy, Drama, S...|   TV|     101|  8.56|  82570|      3|       9.0| [8.56,9.0]|\n",
            "|     199|Sen to Chihiro no...|[Adventure, Drama...|Movie|       1|  8.93| 466254|      3|      10.0|[8.93,10.0]|\n",
            "|     225|      Dragon Ball GT|[Action, Adventur...|   TV|      64|  6.72| 226625|      3|       9.0| [6.72,9.0]|\n",
            "|     341|Spiral: Suiri no ...|[Drama, Mystery, ...|   TV|      25|  7.38|  36187|      3|       6.0| [7.38,6.0]|\n",
            "|     430|Fullmetal Alchemi...|[Comedy, Drama, F...|Movie|       1|  7.74| 186465|      3|       7.0| [7.74,7.0]|\n",
            "|     527|             Pokemon|[Action, Adventur...|   TV|     276|  7.43| 229157|      3|       7.0| [7.43,7.0]|\n",
            "|     552|   Digimon Adventure|[Action, Adventur...|   TV|      54|  7.89| 182208|      3|       7.0| [7.89,7.0]|\n",
            "|     813|       Dragon Ball Z|[Action, Adventur...|   TV|     291|  8.32| 375662|      3|      10.0|[8.32,10.0]|\n",
            "|    1119|Pokemon: Celebi T...|[Adventure, Comed...|Movie|       1|  7.05|  58359|      3|       7.0| [7.05,7.0]|\n",
            "|    1121|Pokemon Advanced ...|[Adventure, Comed...|Movie|       1|  6.93|  43444|      3|       7.0| [6.93,7.0]|\n",
            "|    1122|Pokemon Advanced ...|[Action, Adventur...|Movie|       1|   7.1|  45203|      3|       7.0|  [7.1,7.0]|\n",
            "|    1132|    Digimon Frontier|[Action, Adventur...|   TV|      50|  7.25|  74929|      3|       8.0| [7.25,8.0]|\n",
            "|    1292|        Afro Samurai|[Action, Adventur...|   TV|       5|  7.41| 135708|      3|       6.0| [7.41,6.0]|\n",
            "+--------+--------------------+--------------------+-----+--------+------+-------+-------+----------+-----------+\n",
            "only showing top 20 rows\n",
            "\n",
            "Best Cluster: 1\n"
          ]
        }
      ]
    },
    {
      "cell_type": "code",
      "source": [
        "get_analysis(best_cluster,10)"
      ],
      "metadata": {
        "colab": {
          "base_uri": "https://localhost:8080/"
        },
        "id": "JwTibC4v905r",
        "outputId": "5d93f96d-e6b9-46e4-afd6-d51ddff34b5d"
      },
      "execution_count": null,
      "outputs": [
        {
          "output_type": "stream",
          "name": "stdout",
          "text": [
            "+--------+--------------------+\n",
            "|anime_id|                name|\n",
            "+--------+--------------------+\n",
            "|   32281|      Kimi no Na wa.|\n",
            "|   28977|            Gintama°|\n",
            "|    5114|Fullmetal Alchemi...|\n",
            "|     820|Ginga Eiyuu Densetsu|\n",
            "|    9969|       Gintama&#039;|\n",
            "|    9253|         Steins;Gate|\n",
            "|    4181|Clannad: After Story|\n",
            "|   15335|Gintama Movie: Ka...|\n",
            "|   11061|Hunter x Hunter (...|\n",
            "|   15417|Gintama&#039;: En...|\n",
            "+--------+--------------------+\n",
            "\n"
          ]
        }
      ]
    },
    {
      "cell_type": "code",
      "source": [
        "print(\"PERFORMING USER SEGMENTATION.......\")\n",
        "predictions, unique_types=customer_segmentation_by_anime_type(merged_df)\n",
        "print(\"VISUALIZING USER SEGMENTATION.......\")\n",
        "visualize_anime_type_clusters(predictions, unique_types)"
      ],
      "metadata": {
        "colab": {
          "base_uri": "https://localhost:8080/",
          "height": 601
        },
        "id": "w81W77bjFYOk",
        "outputId": "1a6e65ff-8c78-435b-c877-cb9d05ffb5be"
      },
      "execution_count": null,
      "outputs": [
        {
          "output_type": "stream",
          "name": "stdout",
          "text": [
            "PERFORMING USER SEGMENTATION.......\n",
            "VISUALIZING USER SEGMENTATION.......\n"
          ]
        },
        {
          "output_type": "display_data",
          "data": {
            "text/plain": [
              "<Figure size 1200x600 with 1 Axes>"
            ],
            "image/png": "[encoded data removed]"
          },
          "metadata": {}
        }
      ]
    }
  ]
}